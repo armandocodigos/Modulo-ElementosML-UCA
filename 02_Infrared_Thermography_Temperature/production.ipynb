{
 "cells": [
  {
   "cell_type": "code",
   "execution_count": 1,
   "id": "489d598a-6930-42c7-8b2a-67c62472d4f6",
   "metadata": {
    "tags": []
   },
   "outputs": [],
   "source": [
    "import pickle\n",
    "import numpy as np"
   ]
  },
  {
   "cell_type": "code",
   "execution_count": 6,
   "id": "c8f34a8d-ed84-4f85-9540-f1f834feb46b",
   "metadata": {
    "tags": []
   },
   "outputs": [
    {
     "name": "stdout",
     "output_type": "stream",
     "text": [
      "[36.8585]\n"
     ]
    },
    {
     "name": "stderr",
     "output_type": "stream",
     "text": [
      "C:\\Users\\ronal\\anaconda3\\envs\\UCA_ML\\lib\\site-packages\\sklearn\\base.py:493: UserWarning: X does not have valid feature names, but RandomForestRegressor was fitted with feature names\n",
      "  warnings.warn(\n"
     ]
    }
   ],
   "source": [
    "filename = 'finalized_model.sav'\n",
    "loaded_model = pickle.load(open(filename, 'rb'))\n",
    "unseen = [24.0, 28.0, 0.7025, 35.03, 35.3775, 34.4, 34.9175, 34.985, 34.985,\n",
    "        34.7625, 35.0325, 35.3375, 35.3375, 34.485, 35.3775, 34.785,\n",
    "        34.465, 35.3775, 35.3375, 33.5775, 33.4775, 33.3725, 33.4925,\n",
    "        33.0025, 34.53, 34.0075, 35.6925, 35.635, 35.6525, False, True,\n",
    "        False, False, False, False, False, True, False, False, False,\n",
    "        False, False, False, False, True]\n",
    "unseen = np.array(unseen).reshape(1, -1)\n",
    "prediction = loaded_model.predict(unseen)\n",
    "print(prediction)"
   ]
  },
  {
   "cell_type": "code",
   "execution_count": 7,
   "id": "962c4cb1-8a5e-4042-8467-5069a0f99c59",
   "metadata": {
    "tags": []
   },
   "outputs": [
    {
     "name": "stdout",
     "output_type": "stream",
     "text": [
      "Time:  0:00:00.003524\n"
     ]
    },
    {
     "name": "stderr",
     "output_type": "stream",
     "text": [
      "C:\\Users\\ronal\\anaconda3\\envs\\UCA_ML\\lib\\site-packages\\sklearn\\base.py:493: UserWarning: X does not have valid feature names, but RandomForestRegressor was fitted with feature names\n",
      "  warnings.warn(\n"
     ]
    }
   ],
   "source": [
    "from datetime import datetime\n",
    "start = datetime.now()\n",
    "# start\n",
    "loaded_model.predict(unseen)   \n",
    "# finish\n",
    "end = datetime.now()\n",
    "time_taken = end - start\n",
    "print('Time: ',time_taken)"
   ]
  },
  {
   "cell_type": "code",
   "execution_count": null,
   "id": "0ba0dcdd-f12a-4216-895b-a0a9350f6885",
   "metadata": {},
   "outputs": [],
   "source": []
  }
 ],
 "metadata": {
  "kernelspec": {
   "display_name": "Python 3 (ipykernel)",
   "language": "python",
   "name": "python3"
  },
  "language_info": {
   "codemirror_mode": {
    "name": "ipython",
    "version": 3
   },
   "file_extension": ".py",
   "mimetype": "text/x-python",
   "name": "python",
   "nbconvert_exporter": "python",
   "pygments_lexer": "ipython3",
   "version": "3.9.19"
  }
 },
 "nbformat": 4,
 "nbformat_minor": 5
}
