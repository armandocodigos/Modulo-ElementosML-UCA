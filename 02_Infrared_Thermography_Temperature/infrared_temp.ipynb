{
 "cells": [
  {
   "cell_type": "code",
   "execution_count": 1,
   "id": "8507c494-2526-4df3-bd60-2269f8e191da",
   "metadata": {
    "tags": []
   },
   "outputs": [],
   "source": [
    "import numpy as np\n",
    "import pandas as pd\n",
    "import matplotlib.pyplot as plt"
   ]
  },
  {
   "cell_type": "code",
   "execution_count": 2,
   "id": "809e4bf0-6f49-4ad2-9950-9359d904922f",
   "metadata": {
    "tags": []
   },
   "outputs": [],
   "source": [
    "from ucimlrepo import fetch_ucirepo\n",
    "infrared_thermography_temperature = fetch_ucirepo(id=925) "
   ]
  },
  {
   "cell_type": "code",
   "execution_count": 3,
   "id": "af7729a4-6ddb-4079-932f-976dc89d24be",
   "metadata": {
    "tags": []
   },
   "outputs": [],
   "source": [
    "X = infrared_thermography_temperature.data.features.dropna(axis=1)\n",
    "y = infrared_thermography_temperature.data.targets"
   ]
  },
  {
   "cell_type": "code",
   "execution_count": 4,
   "id": "44576ec4-7afa-4411-92b6-cdddee665e1e",
   "metadata": {
    "tags": []
   },
   "outputs": [
    {
     "data": {
      "text/html": [
       "<div>\n",
       "<style scoped>\n",
       "    .dataframe tbody tr th:only-of-type {\n",
       "        vertical-align: middle;\n",
       "    }\n",
       "\n",
       "    .dataframe tbody tr th {\n",
       "        vertical-align: top;\n",
       "    }\n",
       "\n",
       "    .dataframe thead th {\n",
       "        text-align: right;\n",
       "    }\n",
       "</style>\n",
       "<table border=\"1\" class=\"dataframe\">\n",
       "  <thead>\n",
       "    <tr style=\"text-align: right;\">\n",
       "      <th></th>\n",
       "      <th>Gender</th>\n",
       "      <th>Age</th>\n",
       "      <th>Ethnicity</th>\n",
       "      <th>T_atm</th>\n",
       "      <th>Humidity</th>\n",
       "      <th>T_offset1</th>\n",
       "      <th>Max1R13_1</th>\n",
       "      <th>Max1L13_1</th>\n",
       "      <th>aveAllR13_1</th>\n",
       "      <th>aveAllL13_1</th>\n",
       "      <th>...</th>\n",
       "      <th>T_FHCC1</th>\n",
       "      <th>T_FHRC1</th>\n",
       "      <th>T_FHLC1</th>\n",
       "      <th>T_FHBC1</th>\n",
       "      <th>T_FHTC1</th>\n",
       "      <th>T_FH_Max1</th>\n",
       "      <th>T_FHC_Max1</th>\n",
       "      <th>T_Max1</th>\n",
       "      <th>T_OR1</th>\n",
       "      <th>T_OR_Max1</th>\n",
       "    </tr>\n",
       "  </thead>\n",
       "  <tbody>\n",
       "    <tr>\n",
       "      <th>0</th>\n",
       "      <td>Male</td>\n",
       "      <td>41-50</td>\n",
       "      <td>White</td>\n",
       "      <td>24.0</td>\n",
       "      <td>28.0</td>\n",
       "      <td>0.7025</td>\n",
       "      <td>35.0300</td>\n",
       "      <td>35.3775</td>\n",
       "      <td>34.4000</td>\n",
       "      <td>34.9175</td>\n",
       "      <td>...</td>\n",
       "      <td>33.5775</td>\n",
       "      <td>33.4775</td>\n",
       "      <td>33.3725</td>\n",
       "      <td>33.4925</td>\n",
       "      <td>33.0025</td>\n",
       "      <td>34.5300</td>\n",
       "      <td>34.0075</td>\n",
       "      <td>35.6925</td>\n",
       "      <td>35.6350</td>\n",
       "      <td>35.6525</td>\n",
       "    </tr>\n",
       "    <tr>\n",
       "      <th>1</th>\n",
       "      <td>Female</td>\n",
       "      <td>31-40</td>\n",
       "      <td>Black or African-American</td>\n",
       "      <td>24.0</td>\n",
       "      <td>26.0</td>\n",
       "      <td>0.7800</td>\n",
       "      <td>34.5500</td>\n",
       "      <td>34.5200</td>\n",
       "      <td>33.9300</td>\n",
       "      <td>34.2250</td>\n",
       "      <td>...</td>\n",
       "      <td>34.0325</td>\n",
       "      <td>34.0550</td>\n",
       "      <td>33.6775</td>\n",
       "      <td>33.9700</td>\n",
       "      <td>34.0025</td>\n",
       "      <td>34.6825</td>\n",
       "      <td>34.6600</td>\n",
       "      <td>35.1750</td>\n",
       "      <td>35.0925</td>\n",
       "      <td>35.1075</td>\n",
       "    </tr>\n",
       "    <tr>\n",
       "      <th>2</th>\n",
       "      <td>Female</td>\n",
       "      <td>21-30</td>\n",
       "      <td>White</td>\n",
       "      <td>24.0</td>\n",
       "      <td>26.0</td>\n",
       "      <td>0.8625</td>\n",
       "      <td>35.6525</td>\n",
       "      <td>35.5175</td>\n",
       "      <td>34.2775</td>\n",
       "      <td>34.8000</td>\n",
       "      <td>...</td>\n",
       "      <td>34.9000</td>\n",
       "      <td>34.8275</td>\n",
       "      <td>34.6475</td>\n",
       "      <td>34.8200</td>\n",
       "      <td>34.6700</td>\n",
       "      <td>35.3450</td>\n",
       "      <td>35.2225</td>\n",
       "      <td>35.9125</td>\n",
       "      <td>35.8600</td>\n",
       "      <td>35.8850</td>\n",
       "    </tr>\n",
       "    <tr>\n",
       "      <th>3</th>\n",
       "      <td>Female</td>\n",
       "      <td>21-30</td>\n",
       "      <td>Black or African-American</td>\n",
       "      <td>24.0</td>\n",
       "      <td>27.0</td>\n",
       "      <td>0.9300</td>\n",
       "      <td>35.2225</td>\n",
       "      <td>35.6125</td>\n",
       "      <td>34.3850</td>\n",
       "      <td>35.2475</td>\n",
       "      <td>...</td>\n",
       "      <td>34.4400</td>\n",
       "      <td>34.4225</td>\n",
       "      <td>34.6550</td>\n",
       "      <td>34.3025</td>\n",
       "      <td>34.9175</td>\n",
       "      <td>35.6025</td>\n",
       "      <td>35.3150</td>\n",
       "      <td>35.7200</td>\n",
       "      <td>34.9650</td>\n",
       "      <td>34.9825</td>\n",
       "    </tr>\n",
       "    <tr>\n",
       "      <th>4</th>\n",
       "      <td>Male</td>\n",
       "      <td>18-20</td>\n",
       "      <td>White</td>\n",
       "      <td>24.0</td>\n",
       "      <td>27.0</td>\n",
       "      <td>0.8950</td>\n",
       "      <td>35.5450</td>\n",
       "      <td>35.6650</td>\n",
       "      <td>34.9100</td>\n",
       "      <td>35.3675</td>\n",
       "      <td>...</td>\n",
       "      <td>35.0900</td>\n",
       "      <td>35.1600</td>\n",
       "      <td>34.3975</td>\n",
       "      <td>34.6700</td>\n",
       "      <td>33.8275</td>\n",
       "      <td>35.4175</td>\n",
       "      <td>35.3725</td>\n",
       "      <td>35.8950</td>\n",
       "      <td>35.5875</td>\n",
       "      <td>35.6175</td>\n",
       "    </tr>\n",
       "  </tbody>\n",
       "</table>\n",
       "<p>5 rows × 32 columns</p>\n",
       "</div>"
      ],
      "text/plain": [
       "   Gender    Age                  Ethnicity  T_atm  Humidity  T_offset1  \\\n",
       "0    Male  41-50                      White   24.0      28.0     0.7025   \n",
       "1  Female  31-40  Black or African-American   24.0      26.0     0.7800   \n",
       "2  Female  21-30                      White   24.0      26.0     0.8625   \n",
       "3  Female  21-30  Black or African-American   24.0      27.0     0.9300   \n",
       "4    Male  18-20                      White   24.0      27.0     0.8950   \n",
       "\n",
       "   Max1R13_1  Max1L13_1  aveAllR13_1  aveAllL13_1  ...  T_FHCC1  T_FHRC1  \\\n",
       "0    35.0300    35.3775      34.4000      34.9175  ...  33.5775  33.4775   \n",
       "1    34.5500    34.5200      33.9300      34.2250  ...  34.0325  34.0550   \n",
       "2    35.6525    35.5175      34.2775      34.8000  ...  34.9000  34.8275   \n",
       "3    35.2225    35.6125      34.3850      35.2475  ...  34.4400  34.4225   \n",
       "4    35.5450    35.6650      34.9100      35.3675  ...  35.0900  35.1600   \n",
       "\n",
       "   T_FHLC1  T_FHBC1  T_FHTC1  T_FH_Max1  T_FHC_Max1   T_Max1    T_OR1  \\\n",
       "0  33.3725  33.4925  33.0025    34.5300     34.0075  35.6925  35.6350   \n",
       "1  33.6775  33.9700  34.0025    34.6825     34.6600  35.1750  35.0925   \n",
       "2  34.6475  34.8200  34.6700    35.3450     35.2225  35.9125  35.8600   \n",
       "3  34.6550  34.3025  34.9175    35.6025     35.3150  35.7200  34.9650   \n",
       "4  34.3975  34.6700  33.8275    35.4175     35.3725  35.8950  35.5875   \n",
       "\n",
       "   T_OR_Max1  \n",
       "0    35.6525  \n",
       "1    35.1075  \n",
       "2    35.8850  \n",
       "3    34.9825  \n",
       "4    35.6175  \n",
       "\n",
       "[5 rows x 32 columns]"
      ]
     },
     "execution_count": 4,
     "metadata": {},
     "output_type": "execute_result"
    }
   ],
   "source": [
    "X.head()"
   ]
  },
  {
   "cell_type": "code",
   "execution_count": 5,
   "id": "80e2ff5a-26d3-45b6-9dd5-037c45b67e04",
   "metadata": {
    "tags": []
   },
   "outputs": [
    {
     "data": {
      "text/html": [
       "<div>\n",
       "<style scoped>\n",
       "    .dataframe tbody tr th:only-of-type {\n",
       "        vertical-align: middle;\n",
       "    }\n",
       "\n",
       "    .dataframe tbody tr th {\n",
       "        vertical-align: top;\n",
       "    }\n",
       "\n",
       "    .dataframe thead th {\n",
       "        text-align: right;\n",
       "    }\n",
       "</style>\n",
       "<table border=\"1\" class=\"dataframe\">\n",
       "  <thead>\n",
       "    <tr style=\"text-align: right;\">\n",
       "      <th></th>\n",
       "      <th>T_atm</th>\n",
       "      <th>Humidity</th>\n",
       "      <th>T_offset1</th>\n",
       "      <th>Max1R13_1</th>\n",
       "      <th>Max1L13_1</th>\n",
       "      <th>aveAllR13_1</th>\n",
       "      <th>aveAllL13_1</th>\n",
       "      <th>T_RC1</th>\n",
       "      <th>T_RC_Dry1</th>\n",
       "      <th>T_RC_Wet1</th>\n",
       "      <th>...</th>\n",
       "      <th>Age_31-40</th>\n",
       "      <th>Age_41-50</th>\n",
       "      <th>Age_51-60</th>\n",
       "      <th>Age_&gt;60</th>\n",
       "      <th>Ethnicity_American Indian or Alaskan Native</th>\n",
       "      <th>Ethnicity_Asian</th>\n",
       "      <th>Ethnicity_Black or African-American</th>\n",
       "      <th>Ethnicity_Hispanic/Latino</th>\n",
       "      <th>Ethnicity_Multiracial</th>\n",
       "      <th>Ethnicity_White</th>\n",
       "    </tr>\n",
       "  </thead>\n",
       "  <tbody>\n",
       "    <tr>\n",
       "      <th>0</th>\n",
       "      <td>24.0</td>\n",
       "      <td>28.0</td>\n",
       "      <td>0.7025</td>\n",
       "      <td>35.0300</td>\n",
       "      <td>35.3775</td>\n",
       "      <td>34.4000</td>\n",
       "      <td>34.9175</td>\n",
       "      <td>34.9850</td>\n",
       "      <td>34.9850</td>\n",
       "      <td>34.7625</td>\n",
       "      <td>...</td>\n",
       "      <td>False</td>\n",
       "      <td>True</td>\n",
       "      <td>False</td>\n",
       "      <td>False</td>\n",
       "      <td>False</td>\n",
       "      <td>False</td>\n",
       "      <td>False</td>\n",
       "      <td>False</td>\n",
       "      <td>False</td>\n",
       "      <td>True</td>\n",
       "    </tr>\n",
       "    <tr>\n",
       "      <th>1</th>\n",
       "      <td>24.0</td>\n",
       "      <td>26.0</td>\n",
       "      <td>0.7800</td>\n",
       "      <td>34.5500</td>\n",
       "      <td>34.5200</td>\n",
       "      <td>33.9300</td>\n",
       "      <td>34.2250</td>\n",
       "      <td>34.7100</td>\n",
       "      <td>34.6325</td>\n",
       "      <td>34.6400</td>\n",
       "      <td>...</td>\n",
       "      <td>True</td>\n",
       "      <td>False</td>\n",
       "      <td>False</td>\n",
       "      <td>False</td>\n",
       "      <td>False</td>\n",
       "      <td>False</td>\n",
       "      <td>True</td>\n",
       "      <td>False</td>\n",
       "      <td>False</td>\n",
       "      <td>False</td>\n",
       "    </tr>\n",
       "    <tr>\n",
       "      <th>2</th>\n",
       "      <td>24.0</td>\n",
       "      <td>26.0</td>\n",
       "      <td>0.8625</td>\n",
       "      <td>35.6525</td>\n",
       "      <td>35.5175</td>\n",
       "      <td>34.2775</td>\n",
       "      <td>34.8000</td>\n",
       "      <td>35.6850</td>\n",
       "      <td>35.6675</td>\n",
       "      <td>35.6150</td>\n",
       "      <td>...</td>\n",
       "      <td>False</td>\n",
       "      <td>False</td>\n",
       "      <td>False</td>\n",
       "      <td>False</td>\n",
       "      <td>False</td>\n",
       "      <td>False</td>\n",
       "      <td>False</td>\n",
       "      <td>False</td>\n",
       "      <td>False</td>\n",
       "      <td>True</td>\n",
       "    </tr>\n",
       "    <tr>\n",
       "      <th>3</th>\n",
       "      <td>24.0</td>\n",
       "      <td>27.0</td>\n",
       "      <td>0.9300</td>\n",
       "      <td>35.2225</td>\n",
       "      <td>35.6125</td>\n",
       "      <td>34.3850</td>\n",
       "      <td>35.2475</td>\n",
       "      <td>35.2075</td>\n",
       "      <td>35.2000</td>\n",
       "      <td>35.1175</td>\n",
       "      <td>...</td>\n",
       "      <td>False</td>\n",
       "      <td>False</td>\n",
       "      <td>False</td>\n",
       "      <td>False</td>\n",
       "      <td>False</td>\n",
       "      <td>False</td>\n",
       "      <td>True</td>\n",
       "      <td>False</td>\n",
       "      <td>False</td>\n",
       "      <td>False</td>\n",
       "    </tr>\n",
       "    <tr>\n",
       "      <th>4</th>\n",
       "      <td>24.0</td>\n",
       "      <td>27.0</td>\n",
       "      <td>0.8950</td>\n",
       "      <td>35.5450</td>\n",
       "      <td>35.6650</td>\n",
       "      <td>34.9100</td>\n",
       "      <td>35.3675</td>\n",
       "      <td>35.6025</td>\n",
       "      <td>35.4750</td>\n",
       "      <td>35.5700</td>\n",
       "      <td>...</td>\n",
       "      <td>False</td>\n",
       "      <td>False</td>\n",
       "      <td>False</td>\n",
       "      <td>False</td>\n",
       "      <td>False</td>\n",
       "      <td>False</td>\n",
       "      <td>False</td>\n",
       "      <td>False</td>\n",
       "      <td>False</td>\n",
       "      <td>True</td>\n",
       "    </tr>\n",
       "  </tbody>\n",
       "</table>\n",
       "<p>5 rows × 45 columns</p>\n",
       "</div>"
      ],
      "text/plain": [
       "   T_atm  Humidity  T_offset1  Max1R13_1  Max1L13_1  aveAllR13_1  aveAllL13_1  \\\n",
       "0   24.0      28.0     0.7025    35.0300    35.3775      34.4000      34.9175   \n",
       "1   24.0      26.0     0.7800    34.5500    34.5200      33.9300      34.2250   \n",
       "2   24.0      26.0     0.8625    35.6525    35.5175      34.2775      34.8000   \n",
       "3   24.0      27.0     0.9300    35.2225    35.6125      34.3850      35.2475   \n",
       "4   24.0      27.0     0.8950    35.5450    35.6650      34.9100      35.3675   \n",
       "\n",
       "     T_RC1  T_RC_Dry1  T_RC_Wet1  ...  Age_31-40  Age_41-50  Age_51-60  \\\n",
       "0  34.9850    34.9850    34.7625  ...      False       True      False   \n",
       "1  34.7100    34.6325    34.6400  ...       True      False      False   \n",
       "2  35.6850    35.6675    35.6150  ...      False      False      False   \n",
       "3  35.2075    35.2000    35.1175  ...      False      False      False   \n",
       "4  35.6025    35.4750    35.5700  ...      False      False      False   \n",
       "\n",
       "   Age_>60  Ethnicity_American Indian or Alaskan Native  Ethnicity_Asian  \\\n",
       "0    False                                        False            False   \n",
       "1    False                                        False            False   \n",
       "2    False                                        False            False   \n",
       "3    False                                        False            False   \n",
       "4    False                                        False            False   \n",
       "\n",
       "   Ethnicity_Black or African-American  Ethnicity_Hispanic/Latino  \\\n",
       "0                                False                      False   \n",
       "1                                 True                      False   \n",
       "2                                False                      False   \n",
       "3                                 True                      False   \n",
       "4                                False                      False   \n",
       "\n",
       "   Ethnicity_Multiracial  Ethnicity_White  \n",
       "0                  False             True  \n",
       "1                  False            False  \n",
       "2                  False             True  \n",
       "3                  False            False  \n",
       "4                  False             True  \n",
       "\n",
       "[5 rows x 45 columns]"
      ]
     },
     "execution_count": 5,
     "metadata": {},
     "output_type": "execute_result"
    }
   ],
   "source": [
    "X_dummies = pd.get_dummies(X, columns=[\"Gender\", \"Age\", \"Ethnicity\"])\n",
    "X_dummies.head()"
   ]
  },
  {
   "cell_type": "code",
   "execution_count": 6,
   "id": "3d75dd3d-24fb-425e-b7fb-d6ca5b3cef87",
   "metadata": {
    "tags": []
   },
   "outputs": [
    {
     "data": {
      "text/html": [
       "<div>\n",
       "<style scoped>\n",
       "    .dataframe tbody tr th:only-of-type {\n",
       "        vertical-align: middle;\n",
       "    }\n",
       "\n",
       "    .dataframe tbody tr th {\n",
       "        vertical-align: top;\n",
       "    }\n",
       "\n",
       "    .dataframe thead th {\n",
       "        text-align: right;\n",
       "    }\n",
       "</style>\n",
       "<table border=\"1\" class=\"dataframe\">\n",
       "  <thead>\n",
       "    <tr style=\"text-align: right;\">\n",
       "      <th></th>\n",
       "      <th>aveOralF</th>\n",
       "      <th>aveOralM</th>\n",
       "    </tr>\n",
       "  </thead>\n",
       "  <tbody>\n",
       "    <tr>\n",
       "      <th>0</th>\n",
       "      <td>36.85</td>\n",
       "      <td>36.59</td>\n",
       "    </tr>\n",
       "    <tr>\n",
       "      <th>1</th>\n",
       "      <td>37.00</td>\n",
       "      <td>37.19</td>\n",
       "    </tr>\n",
       "    <tr>\n",
       "      <th>2</th>\n",
       "      <td>37.20</td>\n",
       "      <td>37.34</td>\n",
       "    </tr>\n",
       "    <tr>\n",
       "      <th>3</th>\n",
       "      <td>36.85</td>\n",
       "      <td>37.09</td>\n",
       "    </tr>\n",
       "    <tr>\n",
       "      <th>4</th>\n",
       "      <td>36.80</td>\n",
       "      <td>37.04</td>\n",
       "    </tr>\n",
       "  </tbody>\n",
       "</table>\n",
       "</div>"
      ],
      "text/plain": [
       "   aveOralF  aveOralM\n",
       "0     36.85     36.59\n",
       "1     37.00     37.19\n",
       "2     37.20     37.34\n",
       "3     36.85     37.09\n",
       "4     36.80     37.04"
      ]
     },
     "execution_count": 6,
     "metadata": {},
     "output_type": "execute_result"
    }
   ],
   "source": [
    "y.head()"
   ]
  },
  {
   "cell_type": "code",
   "execution_count": 7,
   "id": "448fa59c-8794-4a7f-b596-f8202a1e9c05",
   "metadata": {
    "tags": []
   },
   "outputs": [
    {
     "data": {
      "text/html": [
       "<div>\n",
       "<style scoped>\n",
       "    .dataframe tbody tr th:only-of-type {\n",
       "        vertical-align: middle;\n",
       "    }\n",
       "\n",
       "    .dataframe tbody tr th {\n",
       "        vertical-align: top;\n",
       "    }\n",
       "\n",
       "    .dataframe thead th {\n",
       "        text-align: right;\n",
       "    }\n",
       "</style>\n",
       "<table border=\"1\" class=\"dataframe\">\n",
       "  <thead>\n",
       "    <tr style=\"text-align: right;\">\n",
       "      <th></th>\n",
       "      <th>aveOralF</th>\n",
       "    </tr>\n",
       "  </thead>\n",
       "  <tbody>\n",
       "    <tr>\n",
       "      <th>0</th>\n",
       "      <td>36.85</td>\n",
       "    </tr>\n",
       "    <tr>\n",
       "      <th>1</th>\n",
       "      <td>37.00</td>\n",
       "    </tr>\n",
       "    <tr>\n",
       "      <th>2</th>\n",
       "      <td>37.20</td>\n",
       "    </tr>\n",
       "    <tr>\n",
       "      <th>3</th>\n",
       "      <td>36.85</td>\n",
       "    </tr>\n",
       "    <tr>\n",
       "      <th>4</th>\n",
       "      <td>36.80</td>\n",
       "    </tr>\n",
       "  </tbody>\n",
       "</table>\n",
       "</div>"
      ],
      "text/plain": [
       "   aveOralF\n",
       "0     36.85\n",
       "1     37.00\n",
       "2     37.20\n",
       "3     36.85\n",
       "4     36.80"
      ]
     },
     "execution_count": 7,
     "metadata": {},
     "output_type": "execute_result"
    }
   ],
   "source": [
    "y_fast = y[[\"aveOralF\"]]\n",
    "y_fast.head()"
   ]
  },
  {
   "cell_type": "code",
   "execution_count": 8,
   "id": "77621609-e42f-4636-8069-d32e0bab61fc",
   "metadata": {
    "tags": []
   },
   "outputs": [
    {
     "data": {
      "text/plain": [
       "((816, 45), (204, 45))"
      ]
     },
     "execution_count": 8,
     "metadata": {},
     "output_type": "execute_result"
    }
   ],
   "source": [
    "from sklearn.model_selection import train_test_split\n",
    "X_train, X_test = train_test_split(X_dummies, test_size=0.2, random_state=42)\n",
    "X_train.shape, X_test.shape"
   ]
  },
  {
   "cell_type": "code",
   "execution_count": 9,
   "id": "d1f9041a-94cf-4139-be02-e6a1d339830b",
   "metadata": {
    "tags": []
   },
   "outputs": [
    {
     "data": {
      "text/plain": [
       "((816, 1), (204, 1))"
      ]
     },
     "execution_count": 9,
     "metadata": {},
     "output_type": "execute_result"
    }
   ],
   "source": [
    "y_train, y_test = train_test_split(y_fast, test_size=0.2, random_state=42)\n",
    "y_train.shape, y_test.shape"
   ]
  },
  {
   "cell_type": "code",
   "execution_count": 10,
   "id": "1a783e81-6118-4c39-a524-e0b64b892442",
   "metadata": {
    "tags": []
   },
   "outputs": [
    {
     "data": {
      "text/plain": [
       "((816,), (204,))"
      ]
     },
     "execution_count": 10,
     "metadata": {},
     "output_type": "execute_result"
    }
   ],
   "source": [
    "y_train = np.reshape(y_train, -1)\n",
    "y_test = np.reshape(y_test, -1)\n",
    "y_train.shape, y_test.shape"
   ]
  },
  {
   "cell_type": "code",
   "execution_count": 11,
   "id": "66d96e28-810e-4810-a199-11992f536577",
   "metadata": {
    "tags": []
   },
   "outputs": [
    {
     "name": "stdout",
     "output_type": "stream",
     "text": [
      "Model trained!\n"
     ]
    }
   ],
   "source": [
    "from sklearn.ensemble import RandomForestRegressor\n",
    "model = RandomForestRegressor()\n",
    "model.fit(X_train, y_train)\n",
    "print(\"Model trained!\")"
   ]
  },
  {
   "cell_type": "code",
   "execution_count": 12,
   "id": "e3372aea-e92b-4777-9d48-3e3fefb6ceae",
   "metadata": {
    "tags": []
   },
   "outputs": [],
   "source": [
    "y_pred = model.predict(X_test)"
   ]
  },
  {
   "cell_type": "code",
   "execution_count": 13,
   "id": "017e61a5-4216-48e9-a228-f7f21527482f",
   "metadata": {
    "tags": []
   },
   "outputs": [
    {
     "name": "stdout",
     "output_type": "stream",
     "text": [
      "rmse: 0.2356\n"
     ]
    }
   ],
   "source": [
    "rmse = np.sqrt(np.mean(np.square(y_test - y_pred)))\n",
    "print(\"RMSE:\", round(rmse,4))"
   ]
  },
  {
   "cell_type": "code",
   "execution_count": 14,
   "id": "1ac25466-534e-46b6-bbff-1975c43a955a",
   "metadata": {
    "tags": []
   },
   "outputs": [
    {
     "name": "stdout",
     "output_type": "stream",
     "text": [
      "nrmse: 6.1202 %\n"
     ]
    }
   ],
   "source": [
    "nrmse = (rmse / (39.6-35.75)) * 100\n",
    "print(\"NRMSE:\", round(nrmse,4), '%')"
   ]
  },
  {
   "cell_type": "code",
   "execution_count": 15,
   "id": "cea2970a-b932-44a6-b63a-ae4d3afecf22",
   "metadata": {
    "tags": []
   },
   "outputs": [
    {
     "name": "stdout",
     "output_type": "stream",
     "text": [
      "r2: 0.5387\n"
     ]
    }
   ],
   "source": [
    "from sklearn.metrics import r2_score\n",
    "r2 = r2_score(y_test, y_pred)\n",
    "print(\"R2:\", round(r2,4))"
   ]
  },
  {
   "cell_type": "code",
   "execution_count": 16,
   "id": "4580274b-e6d9-4bf8-a3be-74bfe99f08de",
   "metadata": {
    "tags": []
   },
   "outputs": [
    {
     "data": {
      "image/png": "[encoded data removed]",
      "text/plain": [
       "<Figure size 640x480 with 1 Axes>"
      ]
     },
     "metadata": {},
     "output_type": "display_data"
    }
   ],
   "source": [
    "plt.scatter(y_test, y_pred, color='blue', alpha=0.5)\n",
    "plt.plot([y_test.min(), y_test.max()], [y_test.min(), y_test.max()], 'k--', lw=2)\n",
    "plt.xlabel('Actual')\n",
    "plt.ylabel('Predicted')\n",
    "plt.title('Actual vs Predicted Values')\n",
    "plt.tight_layout()\n",
    "plt.show()"
   ]
  },
  {
   "cell_type": "code",
   "execution_count": 17,
   "id": "f37f65de-3bce-401f-8f8c-4d4f71dfc455",
   "metadata": {
    "tags": []
   },
   "outputs": [],
   "source": [
    "import pickle\n",
    "filename = 'finalized_model.sav'\n",
    "pickle.dump(model, open(filename, 'wb'))"
   ]
  },
  {
   "cell_type": "code",
   "execution_count": null,
   "id": "08eba70a-cca9-420c-bfcd-686e95f54cea",
   "metadata": {},
   "outputs": [],
   "source": []
  }
 ],
 "metadata": {
  "kernelspec": {
   "display_name": "Python 3 (ipykernel)",
   "language": "python",
   "name": "python3"
  },
  "language_info": {
   "codemirror_mode": {
    "name": "ipython",
    "version": 3
   },
   "file_extension": ".py",
   "mimetype": "text/x-python",
   "name": "python",
   "nbconvert_exporter": "python",
   "pygments_lexer": "ipython3",
   "version": "3.9.19"
  }
 },
 "nbformat": 4,
 "nbformat_minor": 5
}
